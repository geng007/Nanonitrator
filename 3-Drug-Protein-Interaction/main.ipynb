{
 "cells": [
  {
   "cell_type": "code",
   "execution_count": null,
   "metadata": {
    "execution": {
     "iopub.execute_input": "2022-02-25T07:36:22.703063Z",
     "iopub.status.busy": "2022-02-25T07:36:22.702651Z"
    },
    "scrolled": true
   },
   "outputs": [],
   "source": [
    "from IPython.display import clear_output\n",
    "# !pip install pgl\n",
    "clear_output()\n",
    "print(\"安装成功\")"
   ]
  },
  {
   "cell_type": "code",
   "execution_count": null,
   "metadata": {},
   "outputs": [],
   "source": [
    "print(\"1\")\n",
    "import paddle\n",
    "print(paddle.__version__)"
   ]
  },
  {
   "cell_type": "code",
   "execution_count": null,
   "metadata": {},
   "outputs": [],
   "source": [
    "paddle.utils.run_check()"
   ]
  },
  {
   "cell_type": "code",
   "execution_count": null,
   "metadata": {
    "execution": {
     "iopub.execute_input": "2022-02-25T07:36:38.722023Z",
     "iopub.status.busy": "2022-02-25T07:36:38.721514Z",
     "iopub.status.idle": "2022-02-25T07:36:39.070994Z",
     "shell.execute_reply": "2022-02-25T07:36:39.070177Z",
     "shell.execute_reply.started": "2022-02-25T07:36:38.721995Z"
    },
    "scrolled": true
   },
   "outputs": [],
   "source": [
    "import rdkit\n",
    "from rdkit import Chem"
   ]
  },
  {
   "cell_type": "code",
   "execution_count": null,
   "metadata": {
    "execution": {
     "iopub.status.busy": "2022-02-25T07:36:39.081733Z",
     "iopub.status.idle": "2022-02-25T07:36:39.081987Z",
     "shell.execute_reply": "2022-02-25T07:36:39.081872Z",
     "shell.execute_reply.started": "2022-02-25T07:36:39.081860Z"
    },
    "scrolled": true
   },
   "outputs": [],
   "source": [
    "!tree data"
   ]
  },
  {
   "cell_type": "code",
   "execution_count": null,
   "metadata": {
    "execution": {
     "iopub.status.busy": "2022-02-25T07:36:39.082658Z",
     "iopub.status.idle": "2022-02-25T07:36:39.082901Z",
     "shell.execute_reply": "2022-02-25T07:36:39.082789Z",
     "shell.execute_reply.started": "2022-02-25T07:36:39.082777Z"
    },
    "scrolled": true
   },
   "outputs": [],
   "source": [
    "train_data = project_path+'/apps/drug_target_interaction/graph_dta'\n",
    "test_data =  project_path+'/apps/drug_target_interaction/graph_dta'\n",
    "max_protein_len = 1000  # set -1 to use full sequence"
   ]
  },
  {
   "cell_type": "code",
   "execution_count": null,
   "metadata": {
    "execution": {
     "iopub.status.busy": "2022-02-25T07:36:39.083783Z",
     "iopub.status.idle": "2022-02-25T07:36:39.084036Z",
     "shell.execute_reply": "2022-02-25T07:36:39.083924Z",
     "shell.execute_reply.started": "2022-02-25T07:36:39.083911Z"
    },
    "scrolled": true
   },
   "outputs": [],
   "source": [
    "from src.data_gen import DTADataset\n",
    "train_dataset = DTADataset(train_data, max_protein_len=max_protein_len)\n",
    "test_dataset = DTADataset(test_data, max_protein_len=max_protein_len)\n",
    "print('训练集数量:', len(train_dataset))\n",
    "print('测试集数量:', len(test_dataset))"
   ]
  },
  {
   "cell_type": "code",
   "execution_count": null,
   "metadata": {
    "execution": {
     "iopub.status.busy": "2022-02-25T07:36:39.084883Z",
     "iopub.status.idle": "2022-02-25T07:36:39.085147Z",
     "shell.execute_reply": "2022-02-25T07:36:39.085018Z",
     "shell.execute_reply.started": "2022-02-25T07:36:39.085006Z"
    },
    "scrolled": true
   },
   "outputs": [],
   "source": [
    "lr = 0.0005                                         # 学习率\n",
    "model_config = {\n",
    "    \"compound\": {\n",
    "        \"atom_names\": [\"atomic_num\", \"chiral_tag\"], # 化合物药物表示为图时节点的特征\n",
    "        \"bond_names\": [\"bond_dir\", \"bond_type\"],    # 化合物药物表示为图时边的特征\n",
    "\n",
    "        \"gnn_type\": \"gin\",                          # 图神经网络类型\n",
    "        \"dropout_rate\": 0.2,                        # 图神经网络dropout操作的丢弃概率\n",
    "\n",
    "        \"embed_dim\": 32,                            # 原子类型的embedding矩阵的纬度\n",
    "        \"layer_num\": 5,                             # 图卷积神经网络的层数\n",
    "        \"hidden_size\": 32,                          # 图卷积神经网络隐含层的大小\n",
    "        \"output_dim\": 128                           # 化合物药物表征向量的纬度\n",
    "    },\n",
    "\n",
    "    \"protein\": {\n",
    "        \"max_protein_len\": max_protein_len,         # 设置为-1时使用全长蛋白质序列作为输入\n",
    "        \"embed_dim\": 128,                           # 氨基酸类别的embedding矩阵的纬度\n",
    "        \"num_filters\": 32,                          # 序列卷积的滤波器的数量\n",
    "        \"output_dim\": 128                           # 靶标蛋白表征向量的纬度\n",
    "    },\n",
    "\n",
    "    \"dropout_rate\": 0.2                             # 亲和性预测网络dropout操作的丢弃概率\n",
    "}"
   ]
  },
  {
   "cell_type": "code",
   "execution_count": null,
   "metadata": {
    "execution": {
     "iopub.status.busy": "2022-02-25T07:36:39.086236Z",
     "iopub.status.idle": "2022-02-25T07:36:39.086484Z",
     "shell.execute_reply": "2022-02-25T07:36:39.086367Z",
     "shell.execute_reply.started": "2022-02-25T07:36:39.086355Z"
    },
    "scrolled": true
   },
   "outputs": [],
   "source": [
    "import pgl\n",
    "import paddle\n",
    "import numpy as np\n",
    "from src.model import DTAModel, DTAModelCriterion\n",
    "\n",
    "model = DTAModel(model_config)\n",
    "criterion = DTAModelCriterion()\n",
    "optimizer = paddle.optimizer.Adam(\n",
    "    learning_rate=lr,\n",
    "    parameters=model.parameters())"
   ]
  },
  {
   "cell_type": "code",
   "execution_count": null,
   "metadata": {
    "execution": {
     "iopub.status.busy": "2022-02-25T07:36:39.087376Z",
     "iopub.status.idle": "2022-02-25T07:36:39.087630Z",
     "shell.execute_reply": "2022-02-25T07:36:39.087507Z",
     "shell.execute_reply.started": "2022-02-25T07:36:39.087494Z"
    },
    "scrolled": true
   },
   "outputs": [],
   "source": [
    "from src.data_gen import DTACollateFunc\n",
    "\n",
    "max_epoch = 2                     # 这里使用小的训练轮数方便演示\n",
    "batch_size = 64                  # 训练时实验的批次数据大小\n",
    "num_workers = 2                   # PGL dataloader的并行worker数目\n",
    "\n",
    "collate_fn = DTACollateFunc(\n",
    "    model_config['compound']['atom_names'],\n",
    "    model_config['compound']['bond_names'],\n",
    "    is_inference=False,\n",
    "    label_name='Log10_Kd')\n",
    "\n",
    "train_dataloader = train_dataset.get_data_loader(\n",
    "    batch_size=batch_size,\n",
    "    num_workers=num_workers,\n",
    "    collate_fn=collate_fn)\n",
    "\n",
    "test_dataloader = test_dataset.get_data_loader(\n",
    "        batch_size=batch_size,\n",
    "        num_workers=1,\n",
    "        shuffle=False,\n",
    "        collate_fn=collate_fn)"
   ]
  },
  {
   "cell_type": "code",
   "execution_count": null,
   "metadata": {
    "execution": {
     "iopub.status.busy": "2022-02-25T07:36:39.088821Z",
     "iopub.status.idle": "2022-02-25T07:36:39.089145Z",
     "shell.execute_reply": "2022-02-25T07:36:39.088974Z",
     "shell.execute_reply.started": "2022-02-25T07:36:39.088960Z"
    },
    "scrolled": true
   },
   "outputs": [],
   "source": [
    "def train(model, criterion, optimizer, dataloader):\n",
    "    model.train()\n",
    "    list_loss = []\n",
    "    for graphs, proteins_token, proteins_mask, labels in dataloader:\n",
    "        graphs = graphs.tensor()\n",
    "        proteins_token = paddle.to_tensor(proteins_token)\n",
    "        proteins_mask = paddle.to_tensor(proteins_mask)\n",
    "        labels = paddle.to_tensor(labels)\n",
    "        \n",
    "        preds = model(graphs, proteins_token, proteins_mask)\n",
    "        loss = criterion(preds, labels)\n",
    "        \n",
    "        loss.backward()\n",
    "        optimizer.step()\n",
    "        optimizer.clear_grad()\n",
    "        list_loss.append(loss.numpy())\n",
    "    return np.mean(list_loss)"
   ]
  },
  {
   "cell_type": "code",
   "execution_count": null,
   "metadata": {
    "execution": {
     "iopub.status.busy": "2022-02-25T07:36:39.089975Z",
     "iopub.status.idle": "2022-02-25T07:36:39.090292Z",
     "shell.execute_reply": "2022-02-25T07:36:39.090148Z",
     "shell.execute_reply.started": "2022-02-25T07:36:39.090133Z"
    },
    "scrolled": true
   },
   "outputs": [],
   "source": [
    "from src.utils import concordance_index\n",
    "\n",
    "def evaluate(model, dataloader, prior_best_mse):\n",
    "    model.eval()\n",
    "    total_pred, total_label = [], []\n",
    "    for graphs, proteins_token, proteins_mask, labels in dataloader:\n",
    "        graphs = graphs.tensor()\n",
    "        proteins_token = paddle.to_tensor(proteins_token)\n",
    "        proteins_mask = paddle.to_tensor(proteins_mask)\n",
    "        \n",
    "        preds = model(graphs, proteins_token, proteins_mask)\n",
    "        total_pred.append(preds.numpy())\n",
    "        total_label.append(labels)\n",
    "\n",
    "    total_pred = np.concatenate(total_pred, 0).flatten()\n",
    "    total_label = np.concatenate(total_label, 0).flatten()\n",
    "    mse = ((total_label - total_pred) ** 2).mean(axis=0)\n",
    "\n",
    "    ci = None\n",
    "    if mse < prior_best_mse:\n",
    "        # Computing CI is time consuming\n",
    "        ci = concordance_index(total_label, total_pred)\n",
    "        \n",
    "    return mse, ci"
   ]
  },
  {
   "cell_type": "code",
   "execution_count": null,
   "metadata": {
    "execution": {
     "iopub.status.busy": "2022-02-25T07:36:39.091363Z",
     "iopub.status.idle": "2022-02-25T07:36:39.091638Z",
     "shell.execute_reply": "2022-02-25T07:36:39.091499Z",
     "shell.execute_reply.started": "2022-02-25T07:36:39.091486Z"
    },
    "scrolled": true
   },
   "outputs": [],
   "source": [
    "paddle.set_device('gpu')\n",
    "best_mse, best_ci, best_ep = np.inf, 0, 0\n",
    "best_model = 'best_model.pdparams'\n",
    "\n",
    "metric = None\n",
    "for epoch_id in range(1, max_epoch + 1):\n",
    "    print('========== Epoch {} =========='.format(epoch_id))\n",
    "    train_loss = train(model, criterion, optimizer, train_dataloader)\n",
    "    print('Epoch: {}, Train loss: {}'.format(epoch_id, train_loss))\n",
    "    mse, ci = evaluate(model, test_dataloader, best_mse)\n",
    "    \n",
    "    if mse < best_mse:\n",
    "        best_mse, best_ci, best_ep = mse, ci, epoch_id  \n",
    "        paddle.save(model.state_dict(), best_model)\n",
    "        metric = 'Epoch: {}, Best MSE: {}, Best CI: {}'.format(epoch_id, best_mse, best_ci)\n",
    "        print(metric)\n",
    "    else:\n",
    "        print('No improvement in epoch {}'.format(epoch_id))\n",
    "        print('Current best: ({})'.format(metric))"
   ]
  },
  {
   "cell_type": "code",
   "execution_count": null,
   "metadata": {
    "execution": {
     "iopub.status.busy": "2022-02-25T07:36:39.092246Z",
     "iopub.status.idle": "2022-02-25T07:36:39.092574Z",
     "shell.execute_reply": "2022-02-25T07:36:39.092376Z",
     "shell.execute_reply.started": "2022-02-25T07:36:39.092363Z"
    },
    "scrolled": true
   },
   "outputs": [],
   "source": [
    "import pgl\n",
    "from rdkit.Chem import AllChem\n",
    "from pahelix.utils.protein_tools import ProteinTokenizer\n",
    "from pahelix.utils.compound_tools import mol_to_graph_data\n",
    "\n",
    "protein_example = ''\n",
    "drug_example = ''\n",
    "\n",
    "# 处理药物分子\n",
    "mol = AllChem.MolFromSmiles(drug_example)\n",
    "mol_graph = mol_to_graph_data(mol)\n",
    "print(mol_graph.values())\n",
    "# 处理蛋白质序列\n",
    "tokenizer = ProteinTokenizer()\n",
    "protein_token_ids = tokenizer.gen_token_ids(protein_example)\n",
    "\n",
    "# 融合药物分子和蛋白数据\n",
    "data = {k: v for k, v in mol_graph.items()}\n",
    "data['protein_token_ids'] = np.array(protein_token_ids)\n",
    "\n",
    "# 当设定最大蛋白序列长度时，进行截取或加padding，使得序列满足条件\n",
    "if max_protein_len > 0:\n",
    "    protein_token_ids = np.zeros(max_protein_len, dtype=np.int64) + ProteinTokenizer.padding_token_id\n",
    "    n = min(max_protein_len, data['protein_token_ids'].size)\n",
    "    protein_token_ids[:n] = data['protein_token_ids'][:n]\n",
    "    data['protein_token_ids'] = protein_token_ids\n",
    "    \n",
    "infer_collate_fn = DTACollateFunc(\n",
    "    model_config['compound']['atom_names'],\n",
    "    model_config['compound']['bond_names'],\n",
    "    is_inference=True,\n",
    "    label_name='Log10_Kd')\n",
    "\n",
    "# 处理成DTAModel接收的数据\n",
    "join_graph, proteins_token, proteins_mask = infer_collate_fn([data])"
   ]
  },
  {
   "cell_type": "code",
   "execution_count": null,
   "metadata": {
    "execution": {
     "iopub.status.busy": "2022-02-25T07:36:39.093613Z",
     "iopub.status.idle": "2022-02-25T07:36:39.093861Z",
     "shell.execute_reply": "2022-02-25T07:36:39.093748Z",
     "shell.execute_reply.started": "2022-02-25T07:36:39.093735Z"
    },
    "scrolled": true
   },
   "outputs": [],
   "source": [
    "oin_graph = join_graph.tensor()\n",
    "proteins_token = paddle.to_tensor(proteins_token)\n",
    "proteins_mask = paddle.to_tensor(proteins_mask)\n",
    "\n",
    "model.eval()\n",
    "affinity_pred = model(join_graph, proteins_token, proteins_mask)\n",
    "affinity_pred = affinity_pred.numpy()[0][0]"
   ]
  }
 ],
 "metadata": {
  "kernelspec": {
   "display_name": "Python 3",
   "language": "python",
   "name": "python3"
  },
  "language_info": {
   "codemirror_mode": {
    "name": "ipython",
    "version": 3
   },
   "file_extension": ".py",
   "mimetype": "text/x-python",
   "name": "python",
   "nbconvert_exporter": "python",
   "pygments_lexer": "ipython3",
   "version": "3.6.13"
  }
 },
 "nbformat": 4,
 "nbformat_minor": 4
}
